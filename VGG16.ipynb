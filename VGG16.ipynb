{
 "cells": [
  {
   "cell_type": "code",
   "execution_count": 16,
   "id": "e003b5ca-7ec3-40cc-a4da-0383c82c0c95",
   "metadata": {},
   "outputs": [],
   "source": [
    "# Define your data directories\n",
    "train_dir = 'COP_banknote/ds3/Train'\n",
    "test_dir = 'COP_banknote/ds3/Test'\n",
    "validation_dir = 'COP_banknote/ds3/Validation'"
   ]
  },
  {
   "cell_type": "code",
   "execution_count": 31,
   "id": "cf4e162e-3c0c-471c-b2f1-c1a79f1ca599",
   "metadata": {},
   "outputs": [
    {
     "name": "stderr",
     "output_type": "stream",
     "text": [
      "WARNING:absl:`lr` is deprecated in Keras optimizer, please use `learning_rate` or use the legacy optimizer, e.g.,tf.keras.optimizers.legacy.Adam.\n"
     ]
    },
    {
     "name": "stdout",
     "output_type": "stream",
     "text": [
      "Found 8600 images belonging to 12 classes.\n",
      "Found 2913 images belonging to 12 classes.\n",
      "Epoch 1/3\n",
      "269/269 [==============================] - 267s 990ms/step - loss: 1.4485 - accuracy: 0.4777 - val_loss: 0.8520 - val_accuracy: 0.7638\n",
      "Epoch 2/3\n",
      "269/269 [==============================] - 242s 899ms/step - loss: 0.7864 - accuracy: 0.7441 - val_loss: 0.4997 - val_accuracy: 0.8541\n",
      "Epoch 3/3\n",
      "269/269 [==============================] - 214s 796ms/step - loss: 0.5346 - accuracy: 0.8292 - val_loss: 0.4962 - val_accuracy: 0.8177\n",
      "Found 2903 images belonging to 12 classes.\n",
      "91/91 [==============================] - 52s 572ms/step - loss: 0.4901 - accuracy: 0.8185\n",
      "InceptionV3 Test accuracy: 81.85%\n"
     ]
    }
   ],
   "source": [
    "# Data Augmentation\n",
    "train_datagen = ImageDataGenerator(\n",
    "    rescale=1./255,\n",
    "    rotation_range=40,\n",
    "    width_shift_range=0.2,\n",
    "    height_shift_range=0.2,\n",
    "    shear_range=0.2,\n",
    "    zoom_range=0.2,\n",
    "    horizontal_flip=True,\n",
    "    fill_mode='nearest')\n",
    "\n",
    "# Load the VGG16 model without the top layer (include_top=False)\n",
    "base_model =  VGG16(weights='imagenet', include_top=False)\n",
    "\n",
    "# Add custom classification layers\n",
    "x = base_model.output\n",
    "x = GlobalAveragePooling2D()(x)\n",
    "x = Dense(1024, activation='relu')(x)\n",
    "predictions = Dense(12, activation='softmax')(x)  # Use 'softmax' for multi-class classification\n",
    "\n",
    "# Create the final model\n",
    "model = Model(inputs=base_model.input, outputs=predictions)\n",
    "\n",
    "# Freeze the layers from the base model\n",
    "for layer in base_model.layers:\n",
    "    layer.trainable = False\n",
    "\n",
    "# Compile the model\n",
    "model.compile(optimizer=Adam(lr=0.001), loss='categorical_crossentropy', metrics=['accuracy'])\n",
    "\n",
    "# Create data generators\n",
    "batch_size = 32\n",
    "train_generator = train_datagen.flow_from_directory(\n",
    "    train_dir,\n",
    "    target_size=(224, 224),  # InceptionV3 input size\n",
    "    batch_size=batch_size,\n",
    "    class_mode='categorical',  # Use 'categorical' for multi-class classification\n",
    "    classes=['100k', '100kf', '10k', '10kf', '50k', '50kf', '5k', '5kf', '20k', '20kf', '2k', '2kf']\n",
    ")\n",
    "\n",
    "# Validation data generator\n",
    "validation_datagen = ImageDataGenerator(rescale=1./255)\n",
    "validation_generator = validation_datagen.flow_from_directory(\n",
    "    validation_dir,\n",
    "    target_size=(224, 224),\n",
    "    batch_size=batch_size,\n",
    "    class_mode='categorical',  # Use 'categorical' for multi-class classification\n",
    "    classes=['100k', '100kf', '10k', '10kf', '50k', '50kf', '5k', '5kf', '20k', '20kf', '2k', '2kf']\n",
    ")\n",
    "\n",
    "# Train the model\n",
    "history = model.fit(\n",
    "    train_generator,\n",
    "    steps_per_epoch=len(train_generator),\n",
    "    epochs=3,  # You can adjust the number of epochs\n",
    "    validation_data=validation_generator,\n",
    "    validation_steps=len(validation_generator)\n",
    ")\n",
    "\n",
    "# Evaluate on test data\n",
    "test_datagen = ImageDataGenerator(rescale=1./255)\n",
    "test_generator = test_datagen.flow_from_directory(\n",
    "    test_dir,\n",
    "    target_size=(224, 224),\n",
    "    batch_size=batch_size,\n",
    "    class_mode='categorical',  # Use 'categorical' for multi-class classification\n",
    "    classes=['100k', '100kf', '10k', '10kf', '50k', '50kf', '5k', '5kf', '20k', '20kf', '2k', '2kf']\n",
    ")\n",
    "\n",
    "test_loss, test_acc = model.evaluate(test_generator, steps=len(test_generator))\n",
    "print(f'InceptionV3 Test accuracy: {test_acc * 100:.2f}%')\n",
    "\n",
    "# Save the trained model for later use\n",
    "model.save('banknote_inceptionv3_multiclass.h5')\n"
   ]
  }
 ],
 "metadata": {
  "kernelspec": {
   "display_name": "venv",
   "language": "python",
   "name": "venv"
  },
  "language_info": {
   "codemirror_mode": {
    "name": "ipython",
    "version": 3
   },
   "file_extension": ".py",
   "mimetype": "text/x-python",
   "name": "python",
   "nbconvert_exporter": "python",
   "pygments_lexer": "ipython3",
   "version": "3.10.12"
  }
 },
 "nbformat": 4,
 "nbformat_minor": 5
}
